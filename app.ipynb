{
 "cells": [
  {
   "cell_type": "code",
   "execution_count": 1,
   "id": "ae66c3c4",
   "metadata": {},
   "outputs": [
    {
     "name": "stderr",
     "output_type": "stream",
     "text": [
      "2022-06-10 19:26:05.744 INFO    numexpr.utils: NumExpr defaulting to 8 threads.\n"
     ]
    }
   ],
   "source": [
    "import streamlit as st"
   ]
  },
  {
   "cell_type": "code",
   "execution_count": 3,
   "id": "11c82951",
   "metadata": {},
   "outputs": [
    {
     "name": "stderr",
     "output_type": "stream",
     "text": [
      "2022-06-09 22:24:45.294 INFO    numexpr.utils: NumExpr defaulting to 8 threads.\n"
     ]
    }
   ],
   "source": [
    "from streamlit_cropper import st_cropper"
   ]
  },
  {
   "cell_type": "code",
   "execution_count": 20,
   "id": "0548e859",
   "metadata": {},
   "outputs": [
    {
     "name": "stdout",
     "output_type": "stream",
     "text": [
      "Overwriting app.py\n"
     ]
    }
   ],
   "source": [
    "%%writefile app.py\n",
    "import streamlit as st\n",
    "# @st.experimental_singleton\n",
    "# def initialisation():\n",
    "#     from streamlit_cropper import st_cropper\n",
    "#     from PIL import Image\n",
    "import cv2\n",
    "import dlib\n",
    "import numpy as np\n",
    "# initialisation()\n",
    "img_file_buffer = st.camera_input(\"Take a picture\")\n",
    "\n",
    "if img_file_buffer:\n",
    "    bytes_data = img_file_buffer.getvalue()\n",
    "    img = cv2.imdecode(np.frombuffer(bytes_data, np.uint8), cv2.IMREAD_COLOR)\n",
    "    'Photo taken'\n",
    "    @st.experimental_singleton\n",
    "    def dlib_objs():\n",
    "        fd = dlib.get_frontal_face_detector()\n",
    "        sp = dlib.shape_predictor('shape_predictor_68_face_landmarks.dat')\n",
    "        return fd, sp\n",
    "    fd, sp = dlib_objs()\n",
    "    gray = cv2.cvtColor(img, cv2.COLOR_BGR2GRAY)\n",
    "    faces = fd(img)\n",
    "    if faces:\n",
    "        st.balloons()\n",
    "        st.success('Its Working')\n",
    "        points = sp(gray, faces[0])\n",
    "        cx, cy = [i.x for i in points.parts()[36:42]], [i.y for i in points.parts()[36:42]]\n",
    "        x, y, radius = np.mean(cx, dtype = int), np.mean(cy, dtype = int), (max(cx) - min(cx)) // 2\n",
    "        mask = np.zeros(img.shape, dtype=\"uint8\")\n",
    "        mask = cv2.circle(mask, center = (x, y), radius = radius, thickness = -1, color = (1, 1, 1))\n",
    "        st.image((cv2.cvtColor(img, cv2.COLOR_BGR2RGB) * mask)[y - radius:y + radius, x - radius:x + radius], width = 500)\n",
    "    else:\n",
    "        st.error('Where\\'s your face?')\n",
    "\n",
    "#     if img_file_buffer:\n",
    "#         img = Image.open(img_file_buffer)\n",
    "#         cropped_img = st_cropper(img)\n",
    "#     st.image(cropped_img, width = 1000)\n"
   ]
  },
  {
   "cell_type": "code",
   "execution_count": 4,
   "id": "4bff65db",
   "metadata": {},
   "outputs": [
    {
     "name": "stdout",
     "output_type": "stream",
     "text": [
      "Overwriting requirements.txt\n"
     ]
    }
   ],
   "source": [
    "%%writefile requirements.txt\n",
    "streamlit-cropper\n",
    "Pillow\n",
    "dlib-bin\n",
    "opencv-python-headless"
   ]
  },
  {
   "cell_type": "code",
   "execution_count": null,
   "id": "60832e36",
   "metadata": {},
   "outputs": [],
   "source": [
    "!streamlit run app.py"
   ]
  },
  {
   "cell_type": "code",
   "execution_count": null,
   "id": "b27d4555",
   "metadata": {},
   "outputs": [],
   "source": []
  }
 ],
 "metadata": {
  "kernelspec": {
   "display_name": "Python 3 (ipykernel)",
   "language": "python",
   "name": "python3"
  },
  "language_info": {
   "codemirror_mode": {
    "name": "ipython",
    "version": 3
   },
   "file_extension": ".py",
   "mimetype": "text/x-python",
   "name": "python",
   "nbconvert_exporter": "python",
   "pygments_lexer": "ipython3",
   "version": "3.9.7"
  }
 },
 "nbformat": 4,
 "nbformat_minor": 5
}
