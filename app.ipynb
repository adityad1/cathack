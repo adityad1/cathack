{
 "cells": [
  {
   "cell_type": "code",
   "execution_count": null,
   "id": "ae66c3c4",
   "metadata": {},
   "outputs": [],
   "source": [
    "import streamlit as st"
   ]
  },
  {
   "cell_type": "code",
   "execution_count": 3,
   "id": "11c82951",
   "metadata": {},
   "outputs": [
    {
     "name": "stderr",
     "output_type": "stream",
     "text": [
      "2022-06-09 22:24:45.294 INFO    numexpr.utils: NumExpr defaulting to 8 threads.\n"
     ]
    }
   ],
   "source": [
    "# from streamlit_cropper import st_cropper"
   ]
  },
  {
   "cell_type": "code",
   "execution_count": 4,
   "id": "0548e859",
   "metadata": {},
   "outputs": [
    {
     "name": "stdout",
     "output_type": "stream",
     "text": [
      "Overwriting app.py\n"
     ]
    }
   ],
   "source": [
    "%%writefile app.py\n",
    "import streamlit as st\n",
    "@st.experimental_singleton\n",
    "def initial():\n",
    "    import cv2\n",
    "    import dlib\n",
    "    import numpy as np\n",
    "    return cv2, dlib, np\n",
    "cv2, dlib, np = initial()\n",
    "img_file_buffer = st.camera_input(\"Take a picture\")\n",
    "labels = ['normal', 'mild', 'severe']\n",
    "if img_file_buffer:\n",
    "    bytes_data = img_file_buffer.getvalue()\n",
    "    img = cv2.imdecode(np.frombuffer(bytes_data, np.uint8), cv2.IMREAD_COLOR)\n",
    "    'Photo taken'\n",
    "    @st.experimental_singleton\n",
    "    def dlib_objs():\n",
    "        fd = dlib.get_frontal_face_detector()\n",
    "        sp = dlib.shape_predictor('shape_predictor_68_face_landmarks.dat')\n",
    "        return fd, sp\n",
    "    fd, sp = dlib_objs()\n",
    "    gray, img = cv2.cvtColor(img, cv2.COLOR_BGR2GRAY), cv2.cvtColor(img, cv2.COLOR_BGR2RGB)\n",
    "    faces = fd(img)\n",
    "    if faces:\n",
    "        st.balloons()\n",
    "        st.success('Its Working')\n",
    "        points = sp(gray, faces[0])\n",
    "        cx, cy = [i.x for i in points.parts()[36:42]], [i.y for i in points.parts()[36:42]]\n",
    "        x, y, radius = np.mean(cx, dtype = int), np.mean(cy, dtype = int), (max(cx) - min(cx)) // 2\n",
    "        mask = np.zeros(img.shape, dtype=\"uint8\")\n",
    "        mask = cv2.circle(mask, center = (x, y), radius = radius, thickness = -1, color = (1, 1, 1))\n",
    "        right_eye = (img * mask)[y - radius:y + radius, x - radius:x + radius]\n",
    "        cx, cy = [i.x for i in points.parts()[42:48]], [i.y for i in points.parts()[42:48]]\n",
    "        x, y, radius = np.mean(cx, dtype = int), np.mean(cy, dtype = int), (max(cx) - min(cx)) // 2\n",
    "        mask = np.zeros(img.shape, dtype=\"uint8\")\n",
    "        mask = cv2.circle(mask, center = (x, y), radius = radius, thickness = -1, color = (1, 1, 1))\n",
    "        left_eye = (img * mask)[y - radius:y + radius, x - radius:x + radius]\n",
    "        col1, col2 = st.columns(2)\n",
    "        col1.header('Left Eye')\n",
    "        col1.image(left_eye, width = 300)\n",
    "        col2.header('Right Eye')\n",
    "        col2.image(right_eye, width = 300)\n",
    "        from tensorflow.keras.models import model_from_json\n",
    "        with open('model.json', 'r') as f:\n",
    "            js = f.read()\n",
    "        model = model_from_json(js)\n",
    "        model.load_weights('weights.h5')\n",
    "        preds = model.predict(np.array([cv2.resize(left_eye, (224, 224)), cv2.resize(right_eye, (224, 224))]))\n",
    "        col1.write('Result - ' + labels[np.argmax(preds[0])])\n",
    "        col2.write('Result - ' + labels[np.argmax(preds[1])])\n",
    "    else:\n",
    "        st.error('Where\\'s your face?')"
   ]
  },
  {
   "cell_type": "code",
   "execution_count": 19,
   "id": "1db9e2ce",
   "metadata": {},
   "outputs": [
    {
     "name": "stdout",
     "output_type": "stream",
     "text": [
      "Overwriting app.py\n"
     ]
    }
   ],
   "source": [
    "%%writefile app.py\n",
    "import streamlit as st\n",
    "def check_password():\n",
    "    \"\"\"Returns `True` if the user had a correct password.\"\"\"\n",
    "\n",
    "    def password_entered():\n",
    "        \"\"\"Checks whether a password entered by the user is correct.\"\"\"\n",
    "        if (\n",
    "            st.session_state[\"username\"] in st.secrets[\"passwords\"]\n",
    "            and st.session_state[\"password\"]\n",
    "            == st.secrets[\"passwords\"][st.session_state[\"username\"]]\n",
    "        ):\n",
    "            st.session_state[\"password_correct\"] = True\n",
    "            del st.session_state[\"password\"]  # don't store username + password\n",
    "            del st.session_state[\"username\"]\n",
    "        else:\n",
    "            st.session_state[\"password_correct\"] = False\n",
    "\n",
    "    if \"password_correct\" not in st.session_state:\n",
    "        # First run, show inputs for username + password.\n",
    "        st.text_input(\"Username\", on_change=password_entered, key=\"username\")\n",
    "        st.text_input(\n",
    "            \"Password\", type=\"password\", on_change=password_entered, key=\"password\"\n",
    "        )\n",
    "        return False\n",
    "    elif not st.session_state[\"password_correct\"]:\n",
    "        # Password not correct, show input + error.\n",
    "        st.text_input(\"Username\", on_change=password_entered, key=\"username\")\n",
    "        st.text_input(\n",
    "            \"Password\", type=\"password\", on_change=password_entered, key=\"password\"\n",
    "        )\n",
    "        st.error(\"😕 User not known or password incorrect\")\n",
    "        return False\n",
    "    else:\n",
    "        # Password correct.\n",
    "        return True\n",
    "if not st.session_state.get('guest', 0):\n",
    "    chk = check_password()\n",
    "    st.checkbox(label = 'Guest Login', key = 'guest', value = st.session_state.get('guest', 0))\n",
    "if st.session_state['guest'] or (chk and st.session_state.get('username', 0) == 'user'):\n",
    "    @st.experimental_singleton\n",
    "    def initial():\n",
    "        import cv2\n",
    "        import dlib\n",
    "        import numpy as np\n",
    "        return cv2, dlib, np\n",
    "    cv2, dlib, np = initial()\n",
    "    st.sidebar.image('I5.png')\n",
    "   \n",
    "    st.sidebar.radio(label = 'Photo Options', options = ['Camera', 'Upload'], index = 0, key = 'upload')\n",
    "    if st.session_state['upload'] == 'Upload':\n",
    "        img_file_buffer = st.file_uploader('Upload a picture')\n",
    "    else:\n",
    "        img_file_buffer = st.camera_input('Take a picture')\n",
    "    labels = ['normal', 'mild', 'severe']\n",
    "    if img_file_buffer:\n",
    "        bytes_data = img_file_buffer.getvalue()\n",
    "        img = cv2.imdecode(np.frombuffer(bytes_data, np.uint8), cv2.IMREAD_COLOR)\n",
    "        'Photo taken'\n",
    "        @st.experimental_singleton\n",
    "        def dlib_objs():\n",
    "            fd = dlib.get_frontal_face_detector()\n",
    "            sp = dlib.shape_predictor('shape_predictor_68_face_landmarks.dat')\n",
    "            return fd, sp\n",
    "        fd, sp = dlib_objs()\n",
    "        gray, img = cv2.cvtColor(img, cv2.COLOR_BGR2GRAY), cv2.cvtColor(img, cv2.COLOR_BGR2RGB)\n",
    "        faces = fd(img)\n",
    "        if faces:\n",
    "            st.success('Face Detected.')\n",
    "            points = sp(gray, faces[0])\n",
    "            cx, cy = [i.x for i in points.parts()[36:42]], [i.y for i in points.parts()[36:42]]\n",
    "            x, y, radius = np.mean(cx, dtype = int), np.mean(cy, dtype = int), (max(cx) - min(cx)) // 2\n",
    "            mask = np.zeros(img.shape, dtype=\"uint8\")\n",
    "            mask = cv2.circle(mask, center = (x, y), radius = radius, thickness = -1, color = (1, 1, 1))\n",
    "            right_eye = (img * mask)[y - radius:y + radius, x - radius:x + radius]\n",
    "            cx, cy = [i.x for i in points.parts()[42:48]], [i.y for i in points.parts()[42:48]]\n",
    "            x, y, radius = np.mean(cx, dtype = int), np.mean(cy, dtype = int), (max(cx) - min(cx)) // 2\n",
    "            mask = np.zeros(img.shape, dtype=\"uint8\")\n",
    "            mask = cv2.circle(mask, center = (x, y), radius = radius, thickness = -1, color = (1, 1, 1))\n",
    "            left_eye = (img * mask)[y - radius:y + radius, x - radius:x + radius]\n",
    "            col1, col2 = st.columns(2)\n",
    "            col1.header('Left Eye')\n",
    "            col1.image(left_eye, width = 300)\n",
    "            col2.header('Right Eye')\n",
    "            col2.image(right_eye, width = 300)\n",
    "            from tensorflow.keras.models import model_from_json\n",
    "            with open('model.json', 'r') as f:\n",
    "                js = f.read()\n",
    "            model = model_from_json(js)\n",
    "            model.load_weights('weights.h5')\n",
    "            preds = model.predict(np.array([cv2.resize(left_eye, (224, 224)), cv2.resize(right_eye, (224, 224))]))\n",
    "            col1.write('Result - ' + labels[np.argmax(preds[0])])\n",
    "            col2.write('Result - ' + labels[np.argmax(preds[1])])\n",
    "        else:\n",
    "            st.error('Face Detection Failed')\n",
    "    elif chk and st.session_state.get('username', 0) == 'doctor':\n",
    "        st.image('I5.png')\n",
    "        "
   ]
  },
  {
   "cell_type": "code",
   "execution_count": 1,
   "id": "8f335944",
   "metadata": {},
   "outputs": [
    {
     "name": "stdout",
     "output_type": "stream",
     "text": [
      "Overwriting app.py\n"
     ]
    }
   ],
   "source": [
    "%%writefile app.py\n",
    "import streamlit as st\n",
    "\n",
    "@st.experimental_singleton\n",
    "def initial():\n",
    "    import cv2\n",
    "    import dlib\n",
    "    import numpy as np\n",
    "    import joblib\n",
    "    import xgboost\n",
    "    return cv2, dlib, np, joblib, xgboost\n",
    "cv2, dlib, np, joblib, xgboost = initial()\n",
    "st.subheader('Welcome to Ikshana')\n",
    "st.image('I5.png')\n",
    "###\n",
    "with st.expander('Additional Information'):\n",
    "#     st.text('Instructions for usage')\n",
    "    st.text('1.Please take an image that covers your entire face')\n",
    "    st.text('2.Take the picture in good lighting setup')\n",
    "    st.text('3.Avoid using flash while taking the picture')\n",
    "###\n",
    "st.selectbox(label = 'Photo Options', options = ['Camera', 'Upload'], key = 'upload')\n",
    "if st.session_state['upload'] == 'Upload':\n",
    "    img_file_buffer = st.file_uploader('Upload a picture')\n",
    "else:\n",
    "    img_file_buffer = st.camera_input('Take a picture')\n",
    "labels = ['normal', 'mild', 'severe']\n",
    "if img_file_buffer:\n",
    "    bytes_data = img_file_buffer.getvalue()\n",
    "    img = cv2.imdecode(np.frombuffer(bytes_data, np.uint8), cv2.IMREAD_COLOR)\n",
    "#     'Photo taken'\n",
    "    @st.experimental_singleton\n",
    "    def dlib_objs():\n",
    "        fd = dlib.get_frontal_face_detector()\n",
    "        sp = dlib.shape_predictor('shape_predictor_68_face_landmarks.dat')\n",
    "        return fd, sp\n",
    "    fd, sp = dlib_objs()\n",
    "    gray, img = cv2.cvtColor(img, cv2.COLOR_BGR2GRAY), cv2.cvtColor(img, cv2.COLOR_BGR2RGB)\n",
    "    faces = fd(img)\n",
    "    if faces:\n",
    "        st.success('Face Detected.')\n",
    "        points = sp(gray, faces[0])\n",
    "        cx, cy = [i.x for i in points.parts()[36:42]], [i.y for i in points.parts()[36:42]]\n",
    "        x, y, radius = np.mean(cx, dtype = int), np.mean(cy, dtype = int), (max(cx) - min(cx)) // 2\n",
    "        mask = np.zeros(img.shape, dtype=\"uint8\")\n",
    "        mask = cv2.circle(mask, center = (x, y), radius = radius, thickness = -1, color = (1, 1, 1))\n",
    "        right_eye = (img * mask)[y - radius:y + radius, x - radius:x + radius]\n",
    "        cx, cy = [i.x for i in points.parts()[42:48]], [i.y for i in points.parts()[42:48]]\n",
    "        x, y, radius = np.mean(cx, dtype = int), np.mean(cy, dtype = int), (max(cx) - min(cx)) // 2\n",
    "        mask = np.zeros(img.shape, dtype=\"uint8\")\n",
    "        mask = cv2.circle(mask, center = (x, y), radius = radius, thickness = -1, color = (1, 1, 1))\n",
    "        left_eye = (img * mask)[y - radius:y + radius, x - radius:x + radius]\n",
    "        col1, col2 = st.columns(2)\n",
    "        col1.header('Left Eye')\n",
    "        col1.image(left_eye, width = 200)\n",
    "        col2.header('Right Eye')\n",
    "        col2.image(right_eye, width = 200)\n",
    "        from tensorflow.keras.models import model_from_json\n",
    "        with open('vgg.json', 'r') as f:\n",
    "            js = f.read()\n",
    "        model = model_from_json(js)\n",
    "        model.load_weights('vgg_weights.h5')\n",
    "        xg = joblib.load('xgb.joblib')\n",
    "#         with open('xgb.pkl', 'rb') as f:\n",
    "#             xg = pickle.load(f)\n",
    "#         preds = model.predict(np.array([cv2.resize(left_eye, (224, 224)), cv2.resize(right_eye, (224, 224))]))\n",
    "        pr = model.predict(np.array([cv2.resize(left_eye, (224, 224)), cv2.resize(right_eye, (224, 224))]))\n",
    "        preds = xg.predict(pr)\n",
    "        label = ['No Cataract Detected.', 'Mild Cataract Detected.', 'Severe Cataract Detected.\\nReach out to an eye doctor soon.']\n",
    "        col1.info(label[np.argmax(preds[0])])\n",
    "        col2.info(label[np.argmax(preds[1])])\n",
    "        st.warning('Ensure Quality for Accurate Results.')\n",
    "    else:\n",
    "        st.error('Face Detection Failed. Please Try Again!!!')\n",
    "    "
   ]
  },
  {
   "cell_type": "code",
   "execution_count": 6,
   "id": "4bff65db",
   "metadata": {},
   "outputs": [
    {
     "name": "stdout",
     "output_type": "stream",
     "text": [
      "Overwriting requirements.txt\n"
     ]
    }
   ],
   "source": [
    "%%writefile requirements.txt\n",
    "dlib-bin\n",
    "opencv-python-headless\n",
    "tensorflow"
   ]
  },
  {
   "cell_type": "code",
   "execution_count": null,
   "id": "60832e36",
   "metadata": {},
   "outputs": [],
   "source": [
    "!streamlit run app.py"
   ]
  },
  {
   "cell_type": "code",
   "execution_count": 49,
   "id": "2a030904",
   "metadata": {},
   "outputs": [
    {
     "name": "stdout",
     "output_type": "stream",
     "text": [
      "Writing main.py\n"
     ]
    }
   ],
   "source": [
    "%%writefile main.py\n",
    "import streamlit as st\n",
    "@st.experimental_singleton\n",
    "def initial():\n",
    "    import cv2\n",
    "    import dlib\n",
    "    import numpy as np\n",
    "    return cv2, dlib, np\n",
    "cv2, dlib, np = initial()\n",
    "# st.sidebar.image('I0.png')"
   ]
  },
  {
   "cell_type": "code",
   "execution_count": 1,
   "id": "407d4f56",
   "metadata": {},
   "outputs": [],
   "source": [
    "import pickle"
   ]
  },
  {
   "cell_type": "code",
   "execution_count": 4,
   "id": "bc724a56",
   "metadata": {},
   "outputs": [
    {
     "name": "stderr",
     "output_type": "stream",
     "text": [
      "ERROR: unknown command \"pickle\"\n",
      "\n"
     ]
    }
   ],
   "source": [
    "!pip pickle version"
   ]
  },
  {
   "cell_type": "code",
   "execution_count": null,
   "id": "8fd29bd0",
   "metadata": {},
   "outputs": [],
   "source": []
  }
 ],
 "metadata": {
  "kernelspec": {
   "display_name": "Python 3 (ipykernel)",
   "language": "python",
   "name": "python3"
  },
  "language_info": {
   "codemirror_mode": {
    "name": "ipython",
    "version": 3
   },
   "file_extension": ".py",
   "mimetype": "text/x-python",
   "name": "python",
   "nbconvert_exporter": "python",
   "pygments_lexer": "ipython3",
   "version": "3.9.7"
  }
 },
 "nbformat": 4,
 "nbformat_minor": 5
}
