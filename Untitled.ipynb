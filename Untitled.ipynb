{
 "cells": [
  {
   "cell_type": "code",
   "execution_count": 5,
   "id": "ae66c3c4",
   "metadata": {},
   "outputs": [],
   "source": [
    "import streamlit as st"
   ]
  },
  {
   "cell_type": "code",
   "execution_count": 3,
   "id": "aa3e7e26",
   "metadata": {},
   "outputs": [
    {
     "name": "stderr",
     "output_type": "stream",
     "text": [
      "2022-06-09 22:24:45.294 INFO    numexpr.utils: NumExpr defaulting to 8 threads.\n"
     ]
    }
   ],
   "source": [
    "from streamlit_cropper import st_cropper"
   ]
  },
  {
   "cell_type": "code",
   "execution_count": 6,
   "id": "0548e859",
   "metadata": {},
   "outputs": [
    {
     "name": "stdout",
     "output_type": "stream",
     "text": [
      "Overwriting app.py\n"
     ]
    }
   ],
   "source": [
    "%%writefile app.py\n",
    "import streamlit as st\n",
    "import cv2\n",
    "import numpy as np\n",
    "from streamlit_cropper import st_cropper\n",
    "from PIL import Image\n",
    "img_file_buffer = st.camera_input(\"Take a picture\")\n",
    "\n",
    "if img_file_buffer:\n",
    "#     bytes_data = img_file_buffer.getvalue()\n",
    "#     cv2_img = cv2.imdecode(np.frombuffer(bytes_data, np.uint8), cv2.IMREAD_COLOR)\n",
    "    'Photo taken'\n",
    "#     st.set_option('deprecation.showfileUploaderEncoding', False)\n",
    "\n",
    "    if img_file_buffer:\n",
    "        img = Image.open(img_file_buffer)\n",
    "        cropped_img = st_cropper(img)\n",
    "#         st.write(\"Preview\")\n",
    "#     _ = cropped_img.thumbnail((150,150))\n",
    "    st.image(cropped_img, width = 1000)\n"
   ]
  },
  {
   "cell_type": "code",
   "execution_count": 1,
   "id": "f0b09ee6",
   "metadata": {},
   "outputs": [
    {
     "name": "stdout",
     "output_type": "stream",
     "text": [
      "Overwriting app.py\n"
     ]
    }
   ],
   "source": [
    "%%writefile requirements.txt\n",
    "streamlit-cropper\n",
    "\n"
   ]
  },
  {
   "cell_type": "code",
   "execution_count": null,
   "id": "60832e36",
   "metadata": {},
   "outputs": [],
   "source": [
    "!streamlit run app.py"
   ]
  },
  {
   "cell_type": "code",
   "execution_count": null,
   "id": "dc702109",
   "metadata": {},
   "outputs": [],
   "source": []
  }
 ],
 "metadata": {
  "kernelspec": {
   "display_name": "Python 3 (ipykernel)",
   "language": "python",
   "name": "python3"
  },
  "language_info": {
   "codemirror_mode": {
    "name": "ipython",
    "version": 3
   },
   "file_extension": ".py",
   "mimetype": "text/x-python",
   "name": "python",
   "nbconvert_exporter": "python",
   "pygments_lexer": "ipython3",
   "version": "3.9.7"
  }
 },
 "nbformat": 4,
 "nbformat_minor": 5
}
